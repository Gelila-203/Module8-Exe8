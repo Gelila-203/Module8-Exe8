{
 "cells": [
  {
   "cell_type": "markdown",
   "metadata": {},
   "source": [
    "### Exercise 1\n",
    "Ask for an exam score and store that number. If the number is greater than 100, then print out 'You cannot have an exam score higher than 100'. If the number doesn't exceeed 100 but is greater than or equal to 75, then print out 'You did great on your exam!'. Otherwise if they scored lower than 75, then print out 'You need to study harder'."
   ]
  },
  {
   "cell_type": "code",
   "execution_count": 15,
   "metadata": {},
   "outputs": [
    {
     "name": "stdout",
     "output_type": "stream",
     "text": [
      "enter the score : 102\n",
      "You cannot have an exam score higher than 100\n"
     ]
    }
   ],
   "source": [
    "exam_score=int(input(\"enter the score : \"))\n",
    "if exam_score > 100 :\n",
    "    print(\"You cannot have an exam score higher than 100\")\n",
    "else :\n",
    "    if  exam_score >=75 and exam_score < 100 :\n",
    "        print(\"You did great on your exam!\")\n",
    "    else :\n",
    "        print(\"You need to study harder\")\n",
    "    \n"
   ]
  },
  {
   "cell_type": "markdown",
   "metadata": {},
   "source": [
    "### Exercise 2\n",
    "Ask a user to enter two numbers and find their average. Then, print out the average and whether each number is below or above average. Determine if a function should be created or not.\n",
    "    "
   ]
  },
  {
   "cell_type": "code",
   "execution_count": 45,
   "metadata": {},
   "outputs": [
    {
     "name": "stdout",
     "output_type": "stream",
     "text": [
      "Enter the first number : 5\n",
      "Enter the second number : 2\n",
      "The average is 3.5\n",
      "3.5 is greater than 2 \n"
     ]
    }
   ],
   "source": [
    "numb1= int(input(\"Enter the first number : \"))\n",
    "numb2= int(input(\"Enter the second number : \"))\n",
    "average=(numb1 + numb2)/2\n",
    "print(f\"The average is {average}\")\n",
    "\n",
    "if average >  numb1 :  \n",
    "        print(f\"{average} is greater than  {numb1} \")\n",
    "        \n",
    "elif average > numb2 :   \n",
    "        print(f\"{average} is greater than {numb2} \") \n",
    "        \n",
    "elif average < numb1 :\n",
    "        print(f\"{numb1} is greater than {average}\") \n",
    "        \n",
    "elif average < numb2  :\n",
    "        print(f\"{numb2} is greater than {average}\")\n",
    "\n",
    "\n",
    "\n"
   ]
  },
  {
   "cell_type": "markdown",
   "metadata": {},
   "source": [
    "### Exercise 3\n",
    "Write a function to convert a test score to a grade where  \n",
    " - 90 - 100: A\n",
    " - 80 - 89:  B\n",
    " - 70 - 79:  C\n",
    " - 60 - 69:  D\n",
    " - < 60   :  F\n",
    " \n",
    "If a score is not between 0 and 100 then print out an error message. In the program, ask the user for a score and then call your function. "
   ]
  },
  {
   "cell_type": "code",
   "execution_count": 75,
   "metadata": {},
   "outputs": [
    {
     "name": "stdout",
     "output_type": "stream",
     "text": [
      "enter the score : 0\n",
      "gradeis F\n"
     ]
    }
   ],
   "source": [
    "def test_coverter (score) :\n",
    "    if score <=100 and score >=90 :\n",
    "        grade=\"A\"\n",
    "    elif score <= 89 and score >=80:\n",
    "        grade=\"B\"\n",
    "    elif score <= 79 and score >=70:\n",
    "        grade=\"C\"\n",
    "    elif score <= 69 and score >=60:\n",
    "        grade=\"D\"\n",
    "    elif score < 60 :\n",
    "        grade=\"F\"\n",
    "    elif score < 0 or score > 100:\n",
    "        grade=\"Error\"\n",
    "        \n",
    "    return f\"gradeis {grade}\"\n",
    "\n",
    "        \n",
    "score=int(input(\"enter the score : \"))\n",
    "print(test_coverter(score))\n",
    "        "
   ]
  },
  {
   "cell_type": "markdown",
   "metadata": {},
   "source": [
    "### Exercise 4\n",
    "Convert following decimal number to a binary number by hand:\n",
    "\n",
    "    61\n",
    "    15\n",
    "    71\n",
    "    "
   ]
  },
  {
   "cell_type": "markdown",
   "metadata": {},
   "source": [
    "61 converted to binary number is 111101\n"
   ]
  },
  {
   "cell_type": "markdown",
   "metadata": {},
   "source": [
    "15 converted to binary nuber is 1111\n"
   ]
  },
  {
   "cell_type": "markdown",
   "metadata": {},
   "source": [
    "71 converted to binary nuber is 000111"
   ]
  },
  {
   "cell_type": "markdown",
   "metadata": {},
   "source": [
    "### Exercise 5\n",
    "When a = 61 and b = 15, what is the result of following bitwise opertion? Use inline comments to show your result in a binary number. Find your answer by hand.\n",
    "\n",
    "    a & b\n",
    "    a | b\n",
    "    a ^ b\n",
    "    a >> 2\n",
    "    "
   ]
  },
  {
   "cell_type": "code",
   "execution_count": 81,
   "metadata": {},
   "outputs": [],
   "source": [
    "#a= 61       111101\n",
    "#b= 15       001111\n",
    "#a&b         001101\n",
    "#a|b         111111\n",
    "#a^b         110010\n",
    "#a>>2        001111"
   ]
  }
 ],
 "metadata": {
  "kernelspec": {
   "display_name": "Python 3 (ipykernel)",
   "language": "python",
   "name": "python3"
  },
  "language_info": {
   "codemirror_mode": {
    "name": "ipython",
    "version": 3
   },
   "file_extension": ".py",
   "mimetype": "text/x-python",
   "name": "python",
   "nbconvert_exporter": "python",
   "pygments_lexer": "ipython3",
   "version": "3.9.12"
  }
 },
 "nbformat": 4,
 "nbformat_minor": 4
}
